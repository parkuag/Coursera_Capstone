{
    "nbformat_minor": 1, 
    "cells": [
        {
            "source": "# Project to select the right neighborhood to open a new store", 
            "cell_type": "markdown", 
            "metadata": {
                "collapsed": true
            }
        }, 
        {
            "source": "## -------------------------------------------------------------------------------------------------------", 
            "cell_type": "markdown", 
            "metadata": {}
        }, 
        {
            "source": "### Description of the problem and a discussion of the background", 
            "cell_type": "markdown", 
            "metadata": {}
        }, 
        {
            "source": "I am an Indian who has been living outside India for over 15 years. Over the years, I have found out that there is strong demand of Indian commodities specially spices. ", 
            "cell_type": "markdown", 
            "metadata": {}
        }, 
        {
            "source": "The market segment is comprised of both Indian diaspora as well as other nationals attracted to Indian cuisine. ", 
            "cell_type": "markdown", 
            "metadata": {}
        }, 
        {
            "source": "There have been innumerable instances I have observed in an Indian restaurant where connoisseurs of Indian food have enquired with the staff about the recipe, ingredients and spices used. ", 
            "cell_type": "markdown", 
            "metadata": {}
        }, 
        {
            "source": "I have heard from many of my friends and work colleagues about experimenting with cooking Indian dishes at home specially the very famous ones like chicken curry, saag paneer, biryani etc.", 
            "cell_type": "markdown", 
            "metadata": {}
        }, 
        {
            "source": "A very important common ingredient in all the Indian cooking which gives it the unique flavor is the variety of spices. It is not very easy to source these spices outside India. ", 
            "cell_type": "markdown", 
            "metadata": {}
        }, 
        {
            "source": "#### I have an entrepreneurial idea of opening up a store in Toronto which would specialize in stocking Indian spices besides other commodities and artifacts (mainly Indian theme). ", 
            "cell_type": "markdown", 
            "metadata": {}
        }, 
        {
            "source": "I have very good connections back in India to source these Indian items at cheaper price and sell them at a reasonable markup in Toronto.", 
            "cell_type": "markdown", 
            "metadata": {}
        }, 
        {
            "source": "#### A very important decision for me is to choose the location of the store where the footfall of the potential buyers will be high. I would like a neighborhood where there is a good proportion of Indian restaurants. ", 
            "cell_type": "markdown", 
            "metadata": {}
        }, 
        {
            "source": "The people who come to eat in these restaurants are likely to be Indian food lovers of all nationalities and many of them may be interested in sourcing the Indian spices and additionally other Indian items.", 
            "cell_type": "markdown", 
            "metadata": {}
        }, 
        {
            "source": "For the Indian origin clients, my store can also be the outlet for their regular grocery (and spices) shopping with my store\u2019s loyalty card. ", 
            "cell_type": "markdown", 
            "metadata": {}
        }, 
        {
            "source": "After I have narrowed down on the neighborhood, I plan to advertise in all the Indian restaurants of the area. This may serve a dual purpose (1) I can be the bulk supplier to these restaurants itself at a wholesale price (2) These restaurants can be a good point of reference to the people who dine and visit there and my store can cater to need for Indian commodities. ", 
            "cell_type": "markdown", 
            "metadata": {}
        }, 
        {
            "source": "### Description of the data and how it will be used to solve the problem", 
            "cell_type": "markdown", 
            "metadata": {}
        }, 
        {
            "source": "As mentioned, I have to decide on a neighborhood where there are ample Indian restaurants. The data I will be using for my pilot analysis is as follows: ", 
            "cell_type": "markdown", 
            "metadata": {}
        }, 
        {
            "source": "(1) List of sample postal codes of Toronto available in Wikipedia - https://en.wikipedia.org/wiki/List_of_postal_codes_of_Canada:_M,.", 
            "cell_type": "markdown", 
            "metadata": {}
        }, 
        {
            "source": "Since the data available on this wiki page is a table, I will scrape the data using BeautifulSoup and perform cleanup operations to transform into a useable dataframe.", 
            "cell_type": "markdown", 
            "metadata": {}
        }, 
        {
            "source": "(2) Once I have the postal codes of each neighborhood along with the name, I will need to get the latitude and the longitude coordinates of each neighborhood so that I can use the FourSquare location data. ", 
            "cell_type": "markdown", 
            "metadata": {}
        }, 
        {
            "source": "The data for the geographical coordinates of each postal code is available as a csv file at: http://cocl.us/Geospatial_data ", 
            "cell_type": "markdown", 
            "metadata": {}
        }, 
        {
            "source": "(3) I would then need to use the FourSquare to get data on nearby venues for the neighbourhoods (using their latitudes and longitudes for each of them). ", 
            "cell_type": "markdown", 
            "metadata": {}
        }, 
        {
            "source": "FourSquare would return the data as json (javascript object notation) on name, categories etc of the venues within a radius specified by the user (I plan to use 500m radius by default).", 
            "cell_type": "markdown", 
            "metadata": {}
        }, 
        {
            "source": "Once I have gathered the above data in a panda dataframe, I will proceed to analyse all the selected neighborhoods for the kind of venues around. ", 
            "cell_type": "markdown", 
            "metadata": {}
        }, 
        {
            "source": "My main interest would be to find the top neighborhood which has a maximum concentration of Indian restaurants. ", 
            "cell_type": "markdown", 
            "metadata": {}
        }, 
        {
            "source": "That neighborhood would be ideal for me to open up the store which will specialize in stocking Indian spices besides other mostly Indian commodities and artifacts. This neighborhood is likely to be visited by people of all nationalities interested in Indian spices and commodities. ", 
            "cell_type": "markdown", 
            "metadata": {}
        }, 
        {
            "source": "As mentioned earlier, I would also like to get Indian restaurants as my clientale for supplying regular stock of Indian spices as well as use them as locations for advertising for my store. ", 
            "cell_type": "markdown", 
            "metadata": {}
        }, 
        {
            "source": "#### If I have my store too far from the neighborhood which has maximum Indian restaurants, the visitors to the Indian restaurants might not bother to travel far if they are interested to get the Indian spices and other stuff; hence it is important for my store to be in the same neighborhood. ", 
            "cell_type": "markdown", 
            "metadata": {}
        }, 
        {
            "source": "", 
            "cell_type": "code", 
            "execution_count": null, 
            "outputs": [], 
            "metadata": {}
        }
    ], 
    "nbformat": 4, 
    "metadata": {
        "kernelspec": {
            "display_name": "Python 3.6", 
            "name": "python3", 
            "language": "python"
        }, 
        "language_info": {
            "mimetype": "text/x-python", 
            "nbconvert_exporter": "python", 
            "version": "3.6.8", 
            "name": "python", 
            "pygments_lexer": "ipython3", 
            "file_extension": ".py", 
            "codemirror_mode": {
                "version": 3, 
                "name": "ipython"
            }
        }
    }
}